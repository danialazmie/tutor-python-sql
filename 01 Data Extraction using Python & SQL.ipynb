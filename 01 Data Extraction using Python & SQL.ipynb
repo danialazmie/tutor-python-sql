{
 "cells": [
  {
   "cell_type": "markdown",
   "id": "4ba9b639-9fef-4c6d-99ed-d6696a884478",
   "metadata": {},
   "source": [
    "# 01 Data Extraction using Python"
   ]
  },
  {
   "cell_type": "markdown",
   "id": "d71e9e79-85db-44b0-a0a5-e84c58a72ae1",
   "metadata": {},
   "source": [
    "# 0. Prerequisites"
   ]
  },
  {
   "cell_type": "code",
   "execution_count": null,
   "id": "58383006-2ff4-46a6-bde8-90a69bef38fe",
   "metadata": {
    "tags": []
   },
   "outputs": [],
   "source": [
    "!pip install pymysql"
   ]
  },
  {
   "cell_type": "code",
   "execution_count": null,
   "id": "6cb1873d-1980-422f-b14e-403151c78f84",
   "metadata": {
    "tags": []
   },
   "outputs": [],
   "source": [
    "!pip install pandas"
   ]
  },
  {
   "cell_type": "code",
   "execution_count": null,
   "id": "1cdb4844-7648-47ca-af04-21bf79f6fe0e",
   "metadata": {
    "tags": []
   },
   "outputs": [],
   "source": [
    "!pip install sqlalchemy"
   ]
  },
  {
   "cell_type": "code",
   "execution_count": null,
   "id": "d572f445-7812-406f-a083-553e24d0b04d",
   "metadata": {},
   "outputs": [],
   "source": [
    "import pandas as pd\n",
    "from sqlalchemy import create_engine"
   ]
  },
  {
   "cell_type": "markdown",
   "id": "13e6bb5e-8baa-412b-b61d-ae25251f51a4",
   "metadata": {},
   "source": [
    "# 1. Connecting to MySQL using SQLAlchemy"
   ]
  },
  {
   "cell_type": "markdown",
   "id": "0232f52a-af3c-498b-89ec-cc60d208f94d",
   "metadata": {
    "tags": []
   },
   "source": [
    "**SQLAlchemy**\n",
    "\n",
    "> SQLAlchemy is a powerful SQL toolkit and Object-Relational Mapping (ORM) library for Python. An SQLAlchemy Engine is a central object that manages database connections. It's essentially the starting point for any SQLAlchemy application.\n",
    "\n",
    "**PyMySQL**\n",
    "\n",
    "> PyMySQL is a MySQL client library for Python. It essentially acts as the driver for MySQL.\n",
    "\n",
    "It is actually very possible to simply use PyMySQL without SQLAlchemy, but for the sake of best practice especially in the industry, we recommend using SQLAlchemy as it provides and abstraction layer that handles the connectivity details.\n"
   ]
  },
  {
   "cell_type": "code",
   "execution_count": null,
   "id": "68871468-1281-4b27-9349-c58f19b996f2",
   "metadata": {},
   "outputs": [],
   "source": [
    "# Define all the credentials\n",
    "\n",
    "USERNAME = ''\n",
    "PASSWORD = ''\n",
    "HOST = ''\n",
    "PORT = 0\n",
    "DATABASE = ''\n",
    "\n",
    "conn_string = f'mysql+pymysql://{USERNAME}:{PASSWORD}@{HOST}:{PORT}/{DATABASE}'\n",
    "conn_string"
   ]
  },
  {
   "cell_type": "code",
   "execution_count": null,
   "id": "7cc950a8-6dea-4cd2-bd2c-d4064794247d",
   "metadata": {
    "tags": []
   },
   "outputs": [],
   "source": [
    "engine = create_engine(conn_string)\n",
    "engine"
   ]
  },
  {
   "cell_type": "code",
   "execution_count": null,
   "id": "cadcc7af-973b-4184-a174-7f630a311271",
   "metadata": {
    "tags": []
   },
   "outputs": [],
   "source": [
    "# Test connection to server, will raise error if not successful\n",
    "\n",
    "engine.connect()"
   ]
  },
  {
   "cell_type": "markdown",
   "id": "5d649835-9619-4429-9ccd-29c56394b2e1",
   "metadata": {},
   "source": [
    "# 2. Running SQL queries"
   ]
  },
  {
   "cell_type": "markdown",
   "id": "5e3ece89-a282-4931-af6b-cfbc2c179bb2",
   "metadata": {
    "tags": []
   },
   "source": [
    "## 2.1 Using SQLAlchemy directly"
   ]
  },
  {
   "cell_type": "code",
   "execution_count": null,
   "id": "83a1b05c-970e-4d53-9cd9-07e0c8b60692",
   "metadata": {
    "tags": []
   },
   "outputs": [],
   "source": [
    "from sqlalchemy import text"
   ]
  },
  {
   "cell_type": "code",
   "execution_count": null,
   "id": "cf6cc24b-71bd-42bc-97be-41813998d5ed",
   "metadata": {
    "tags": []
   },
   "outputs": [],
   "source": [
    "query = \"\"\"\n",
    "SELECT COUNT(*)\n",
    "FROM listings\n",
    "\"\"\"\n",
    "\n",
    "with engine.connect() as conn:\n",
    "    results = conn.execute(text(query))\n",
    "    results = results.fetchall()\n",
    "    \n",
    "results"
   ]
  },
  {
   "cell_type": "code",
   "execution_count": null,
   "id": "d496d019-fb44-4b89-ae88-7c523c9ed23d",
   "metadata": {
    "tags": []
   },
   "outputs": [],
   "source": [
    "query = \"\"\"\n",
    "SELECT \n",
    "    listing_id,\n",
    "    name,\n",
    "    host_id\n",
    "FROM listings\n",
    "LIMIT 5\n",
    "\"\"\"\n",
    "\n",
    "with engine.connect() as conn:\n",
    "    results = conn.execute(text(query))\n",
    "    results = results.fetchall()\n",
    "    \n",
    "results"
   ]
  },
  {
   "cell_type": "code",
   "execution_count": null,
   "id": "48ab606d-15c2-4116-a19b-314400042015",
   "metadata": {
    "tags": []
   },
   "outputs": [],
   "source": [
    "query = \"\"\"\n",
    "SELECT *\n",
    "FROM listings\n",
    "ORDER BY RAND()\n",
    "LIMIT 5\n",
    "\"\"\"\n",
    "\n",
    "with engine.connect() as conn:\n",
    "    results = conn.execute(text(query))\n",
    "    results = results.fetchall()\n",
    "    \n",
    "results"
   ]
  },
  {
   "cell_type": "markdown",
   "id": "9cf174a4-d237-4885-8967-2bafb1a03d0d",
   "metadata": {
    "tags": []
   },
   "source": [
    "## 2.2 Using Pandas\n",
    "\n",
    "Reference: https://pandas.pydata.org/docs/reference/api/pandas.read_sql.html"
   ]
  },
  {
   "cell_type": "code",
   "execution_count": null,
   "id": "e3d2964c-3323-4a39-9246-0a7942d1849c",
   "metadata": {
    "tags": []
   },
   "outputs": [],
   "source": [
    "# Get number of rows\n",
    "\n",
    "query = \"\"\"\n",
    "SELECT COUNT(*)\n",
    "FROM listings\n",
    "\"\"\"\n",
    "\n",
    "results = pd.read_sql(query, engine)\n",
    "results"
   ]
  },
  {
   "cell_type": "code",
   "execution_count": null,
   "id": "a194ae99-47d1-4d3c-b9ab-7c9146dd10d1",
   "metadata": {
    "tags": []
   },
   "outputs": [],
   "source": [
    "query = \"\"\"\n",
    "SELECT \n",
    "    listing_id,\n",
    "    name,\n",
    "    host_id\n",
    "FROM listings\n",
    "LIMIT 5\n",
    "\"\"\"\n",
    "\n",
    "results = pd.read_sql(query, engine)\n",
    "results"
   ]
  },
  {
   "cell_type": "code",
   "execution_count": null,
   "id": "41e88402-6f6d-4c15-9396-ecfd649db93c",
   "metadata": {
    "tags": []
   },
   "outputs": [],
   "source": [
    "query = \"\"\"\n",
    "SELECT *\n",
    "FROM listings\n",
    "ORDER BY RAND()\n",
    "LIMIT 5\n",
    "\"\"\"\n",
    "\n",
    "results = pd.read_sql(query, engine)\n",
    "results"
   ]
  },
  {
   "cell_type": "markdown",
   "id": "e4bcc6bf-d21e-4dcf-82dc-7df29e95faef",
   "metadata": {
    "tags": []
   },
   "source": [
    "# Activity\n",
    "\n",
    "- Task 1: Find listings (IDs and name) that have an acceptance rate of 0.5 or above\n",
    "- Task 2: Find listings that has over 500 reviews\n",
    "- Task 3: Find listings that have an acceptance rate of 0.5 or above AND has over 500 reviews\n",
    "\n",
    "You can use Python or SQL to do the get the results, but show the final answer in a DataFrame."
   ]
  },
  {
   "cell_type": "code",
   "execution_count": null,
   "id": "4adcd850-6ef3-4cca-9840-11ac9a6578ee",
   "metadata": {},
   "outputs": [],
   "source": [
    "# Write your code below\n",
    "\n"
   ]
  },
  {
   "cell_type": "code",
   "execution_count": null,
   "id": "534c5ac4-4d90-4980-9228-ec8e2fc626e3",
   "metadata": {},
   "outputs": [],
   "source": []
  },
  {
   "cell_type": "code",
   "execution_count": null,
   "id": "e10fc62f-d020-4522-80c0-6c53540b5041",
   "metadata": {},
   "outputs": [],
   "source": []
  },
  {
   "cell_type": "code",
   "execution_count": null,
   "id": "313b23a6-dce0-43ea-b2d1-ee8fc0ce4607",
   "metadata": {},
   "outputs": [],
   "source": []
  },
  {
   "cell_type": "markdown",
   "id": "3620e417-9aca-4d49-8501-f8cbe7ee9d63",
   "metadata": {},
   "source": [
    "# Close the database connection"
   ]
  },
  {
   "cell_type": "code",
   "execution_count": null,
   "id": "7571cbe5-7a22-4403-99df-53fea0292f74",
   "metadata": {
    "tags": []
   },
   "outputs": [],
   "source": [
    "engine.dispose()"
   ]
  }
 ],
 "metadata": {
  "kernelspec": {
   "display_name": "Python 3 (ipykernel)",
   "language": "python",
   "name": "python3"
  },
  "language_info": {
   "codemirror_mode": {
    "name": "ipython",
    "version": 3
   },
   "file_extension": ".py",
   "mimetype": "text/x-python",
   "name": "python",
   "nbconvert_exporter": "python",
   "pygments_lexer": "ipython3",
   "version": "3.11.9"
  }
 },
 "nbformat": 4,
 "nbformat_minor": 5
}
